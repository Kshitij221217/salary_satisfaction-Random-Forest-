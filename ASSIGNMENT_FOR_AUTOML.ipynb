{
  "nbformat": 4,
  "nbformat_minor": 0,
  "metadata": {
    "colab": {
      "name": "ASSIGNMENT FOR AUTOML.ipynb",
      "provenance": [],
      "authorship_tag": "ABX9TyNdVITJeXaNGWZdpKGXKJcl",
      "include_colab_link": true
    },
    "kernelspec": {
      "name": "python3",
      "display_name": "Python 3"
    },
    "language_info": {
      "name": "python"
    }
  },
  "cells": [
    {
      "cell_type": "markdown",
      "metadata": {
        "id": "view-in-github",
        "colab_type": "text"
      },
      "source": [
        "<a href=\"https://colab.research.google.com/github/Kshitij221217/salary_satisfaction-Random-Forest-/blob/feature%2Fkshitij%2Ftesting/ASSIGNMENT_FOR_AUTOML.ipynb\" target=\"_parent\"><img src=\"https://colab.research.google.com/assets/colab-badge.svg\" alt=\"Open In Colab\"/></a>"
      ]
    },
    {
      "cell_type": "code",
      "metadata": {
        "id": "yNUvLTld6vvw"
      },
      "source": [
        "import numpy as np\n",
        "import pandas as pd"
      ],
      "execution_count": null,
      "outputs": []
    },
    {
      "cell_type": "code",
      "metadata": {
        "id": "jDBbEGRz7Jt0"
      },
      "source": [
        "import pandas as pd\n",
        "df = pd.read_csv(\"/content/salary,satisfaction.csv\", engine='python')"
      ],
      "execution_count": null,
      "outputs": []
    },
    {
      "cell_type": "code",
      "metadata": {
        "colab": {
          "base_uri": "https://localhost:8080/",
          "height": 165
        },
        "id": "dKW9ONg99pOg",
        "outputId": "3380f604-5f01-425f-d77c-e26e0f3b150d"
      },
      "source": [
        "df.tail()# it will top 4 data"
      ],
      "execution_count": 1,
      "outputs": [
        {
          "output_type": "error",
          "ename": "NameError",
          "evalue": "ignored",
          "traceback": [
            "\u001b[0;31m---------------------------------------------------------------------------\u001b[0m",
            "\u001b[0;31mNameError\u001b[0m                                 Traceback (most recent call last)",
            "\u001b[0;32m<ipython-input-1-30f31bc62c7b>\u001b[0m in \u001b[0;36m<cell line: 1>\u001b[0;34m()\u001b[0m\n\u001b[0;32m----> 1\u001b[0;31m \u001b[0mdf\u001b[0m\u001b[0;34m.\u001b[0m\u001b[0mtail\u001b[0m\u001b[0;34m(\u001b[0m\u001b[0;34m)\u001b[0m\u001b[0;31m# it will top 4 data\u001b[0m\u001b[0;34m\u001b[0m\u001b[0;34m\u001b[0m\u001b[0m\n\u001b[0m",
            "\u001b[0;31mNameError\u001b[0m: name 'df' is not defined"
          ]
        }
      ]
    },
    {
      "cell_type": "code",
      "metadata": {
        "colab": {
          "base_uri": "https://localhost:8080/"
        },
        "id": "Q50K22FM_tsK",
        "outputId": "51b65777-046b-4d15-8ea5-10cf57e0da16"
      },
      "source": [
        "print(df.info())#information about the data\n"
      ],
      "execution_count": null,
      "outputs": [
        {
          "output_type": "stream",
          "text": [
            "<class 'pandas.core.frame.DataFrame'>\n",
            "RangeIndex: 2946 entries, 0 to 2945\n",
            "Data columns (total 83 columns):\n",
            " #   Column                      Non-Null Count  Dtype  \n",
            "---  ------                      --------------  -----  \n",
            " 0   id                          2946 non-null   int64  \n",
            " 1   Target_Salary               2946 non-null   float64\n",
            " 2   Target_Satisfied            2946 non-null   int64  \n",
            " 3   LOAN_AMT                    2946 non-null   object \n",
            " 4   Business Title              2946 non-null   object \n",
            " 5   Civil Service Title         2946 non-null   object \n",
            " 6   Division/Work Unit          2946 non-null   object \n",
            " 7   Job Description             2946 non-null   object \n",
            " 8   Minimum Qual Requirements   2926 non-null   object \n",
            " 9   Preferred Skills            2553 non-null   object \n",
            " 10  Additional Information      1854 non-null   object \n",
            " 11  To Apply                    2945 non-null   object \n",
            " 12  Hours/Shift                 884 non-null    object \n",
            " 13  Residency Requirement       2942 non-null   object \n",
            " 14  Posting Date                2942 non-null   object \n",
            " 15  Posting Updated             2942 non-null   object \n",
            " 16  Process Date                2942 non-null   object \n",
            " 17  FormalEducation             2894 non-null   object \n",
            " 18  UndergradMajor              2624 non-null   object \n",
            " 19  CompanySize                 2946 non-null   object \n",
            " 20  DevType                     2901 non-null   object \n",
            " 21  YearsCoding                 2943 non-null   object \n",
            " 22  YearsCodingProf             2538 non-null   object \n",
            " 23  HopeFiveYears               2477 non-null   object \n",
            " 24  JobSearchStatus             2511 non-null   object \n",
            " 25  LastNewJob                  2499 non-null   object \n",
            " 26  UpdateCV                    2089 non-null   object \n",
            " 27  CommunicationTools          2023 non-null   object \n",
            " 28  TimeFullyProductive         2052 non-null   object \n",
            " 29  EducationTypes              2128 non-null   object \n",
            " 30  SelfTaughtTypes             1812 non-null   object \n",
            " 31  TimeAfterBootcamp           221 non-null    object \n",
            " 32  HackathonReasons            849 non-null    object \n",
            " 33  AgreeDisagree1              2133 non-null   object \n",
            " 34  AgreeDisagree2              2133 non-null   object \n",
            " 35  AgreeDisagree3              2139 non-null   object \n",
            " 36  LanguageWorkedWith          2447 non-null   object \n",
            " 37  LanguageDesireNextYear      2279 non-null   object \n",
            " 38  DatabaseWorkedWith          2130 non-null   object \n",
            " 39  DatabaseDesireNextYear      1831 non-null   object \n",
            " 40  PlatformWorkedWith          2070 non-null   object \n",
            " 41  PlatformDesireNextYear      1909 non-null   object \n",
            " 42  FrameworkWorkedWith         1633 non-null   object \n",
            " 43  FrameworkDesireNextYear     1731 non-null   object \n",
            " 44  IDE                         2360 non-null   object \n",
            " 45  OperatingSystem             2377 non-null   object \n",
            " 46  Methodology                 1991 non-null   object \n",
            " 47  VersionControl              2332 non-null   object \n",
            " 48  CheckInCode                 2319 non-null   object \n",
            " 49  AIDangerous                 2000 non-null   object \n",
            " 50  AIInteresting               2076 non-null   object \n",
            " 51  AIResponsible               2070 non-null   object \n",
            " 52  AIFuture                    2196 non-null   object \n",
            " 53  Age                         2027 non-null   object \n",
            " 54  term                        2946 non-null   object \n",
            " 55  loan_status                 2946 non-null   object \n",
            " 56  pymnt_plan                  2946 non-null   object \n",
            " 57  orignal_website_directory   2946 non-null   object \n",
            " 58  purpose                     2946 non-null   object \n",
            " 59  title                       2882 non-null   object \n",
            " 60  zip_code                    2946 non-null   object \n",
            " 61  addr_state                  2946 non-null   object \n",
            " 62  dti                         2946 non-null   float64\n",
            " 63  earliest_cr_line            2946 non-null   object \n",
            " 64  last_pymnt_d                2946 non-null   object \n",
            " 65  last_pymnt_amnt             2946 non-null   float64\n",
            " 66  next_pymnt_d                336 non-null    object \n",
            " 67  last_credit_pull_d          2946 non-null   object \n",
            " 68  Time                        2946 non-null   object \n",
            " 69  emp_length                  715 non-null    object \n",
            " 70  your_favoritearticle_today  2945 non-null   object \n",
            " 71  url                         2946 non-null   object \n",
            " 72  Email                       1941 non-null   object \n",
            " 73  homeaddress                 2629 non-null   object \n",
            " 74  latitude                    2629 non-null   float64\n",
            " 75  longitude                   2629 non-null   float64\n",
            " 76  PHONE                       715 non-null    object \n",
            " 77  officeaddress               2407 non-null   object \n",
            " 78  website                     2399 non-null   object \n",
            " 79  dateAdded                   2946 non-null   object \n",
            " 80  previousaddress             2946 non-null   object \n",
            " 81  phones                      2946 non-null   object \n",
            " 82  CrimeTime                   2946 non-null   object \n",
            "dtypes: float64(5), int64(2), object(76)\n",
            "memory usage: 1.9+ MB\n",
            "None\n"
          ],
          "name": "stdout"
        }
      ]
    },
    {
      "cell_type": "code",
      "metadata": {
        "id": "nJ-iwqFlBSHr",
        "colab": {
          "base_uri": "https://localhost:8080/",
          "height": 320
        },
        "outputId": "2e121e51-4b6b-47db-bacf-b2eecf0c1d8b"
      },
      "source": [
        "df.describe() #method is used for calculating some statistical data like percentile, mean,std"
      ],
      "execution_count": null,
      "outputs": [
        {
          "output_type": "execute_result",
          "data": {
            "text/html": [
              "<div>\n",
              "<style scoped>\n",
              "    .dataframe tbody tr th:only-of-type {\n",
              "        vertical-align: middle;\n",
              "    }\n",
              "\n",
              "    .dataframe tbody tr th {\n",
              "        vertical-align: top;\n",
              "    }\n",
              "\n",
              "    .dataframe thead th {\n",
              "        text-align: right;\n",
              "    }\n",
              "</style>\n",
              "<table border=\"1\" class=\"dataframe\">\n",
              "  <thead>\n",
              "    <tr style=\"text-align: right;\">\n",
              "      <th></th>\n",
              "      <th>id</th>\n",
              "      <th>Target_Salary</th>\n",
              "      <th>Target_Satisfied</th>\n",
              "      <th>dti</th>\n",
              "      <th>last_pymnt_amnt</th>\n",
              "      <th>latitude</th>\n",
              "      <th>longitude</th>\n",
              "    </tr>\n",
              "  </thead>\n",
              "  <tbody>\n",
              "    <tr>\n",
              "      <th>count</th>\n",
              "      <td>2.946000e+03</td>\n",
              "      <td>2946.000000</td>\n",
              "      <td>2946.000000</td>\n",
              "      <td>2946.000000</td>\n",
              "      <td>2946.000000</td>\n",
              "      <td>2629.000000</td>\n",
              "      <td>2629.000000</td>\n",
              "    </tr>\n",
              "    <tr>\n",
              "      <th>mean</th>\n",
              "      <td>6.830623e+07</td>\n",
              "      <td>58904.139794</td>\n",
              "      <td>0.210115</td>\n",
              "      <td>19.444117</td>\n",
              "      <td>4663.227026</td>\n",
              "      <td>37.515979</td>\n",
              "      <td>-92.490287</td>\n",
              "    </tr>\n",
              "    <tr>\n",
              "      <th>std</th>\n",
              "      <td>1.814269e+06</td>\n",
              "      <td>26986.575936</td>\n",
              "      <td>0.407460</td>\n",
              "      <td>8.628543</td>\n",
              "      <td>6855.297610</td>\n",
              "      <td>4.749089</td>\n",
              "      <td>16.578616</td>\n",
              "    </tr>\n",
              "    <tr>\n",
              "      <th>min</th>\n",
              "      <td>3.617740e+05</td>\n",
              "      <td>0.000000</td>\n",
              "      <td>0.000000</td>\n",
              "      <td>0.000000</td>\n",
              "      <td>0.030000</td>\n",
              "      <td>25.479009</td>\n",
              "      <td>-124.183611</td>\n",
              "    </tr>\n",
              "    <tr>\n",
              "      <th>25%</th>\n",
              "      <td>6.837622e+07</td>\n",
              "      <td>49390.000000</td>\n",
              "      <td>0.000000</td>\n",
              "      <td>13.035000</td>\n",
              "      <td>362.980000</td>\n",
              "      <td>33.876535</td>\n",
              "      <td>-105.095673</td>\n",
              "    </tr>\n",
              "    <tr>\n",
              "      <th>50%</th>\n",
              "      <td>6.846507e+07</td>\n",
              "      <td>58440.000000</td>\n",
              "      <td>0.000000</td>\n",
              "      <td>18.905000</td>\n",
              "      <td>842.235000</td>\n",
              "      <td>38.898082</td>\n",
              "      <td>-87.180851</td>\n",
              "    </tr>\n",
              "    <tr>\n",
              "      <th>75%</th>\n",
              "      <td>6.853764e+07</td>\n",
              "      <td>73171.750000</td>\n",
              "      <td>0.000000</td>\n",
              "      <td>25.580000</td>\n",
              "      <td>6832.185000</td>\n",
              "      <td>40.813125</td>\n",
              "      <td>-78.879958</td>\n",
              "    </tr>\n",
              "    <tr>\n",
              "      <th>max</th>\n",
              "      <td>6.861706e+07</td>\n",
              "      <td>218587.000000</td>\n",
              "      <td>1.000000</td>\n",
              "      <td>51.200000</td>\n",
              "      <td>35467.750000</td>\n",
              "      <td>48.785206</td>\n",
              "      <td>-68.753750</td>\n",
              "    </tr>\n",
              "  </tbody>\n",
              "</table>\n",
              "</div>"
            ],
            "text/plain": [
              "                 id  Target_Salary  ...     latitude    longitude\n",
              "count  2.946000e+03    2946.000000  ...  2629.000000  2629.000000\n",
              "mean   6.830623e+07   58904.139794  ...    37.515979   -92.490287\n",
              "std    1.814269e+06   26986.575936  ...     4.749089    16.578616\n",
              "min    3.617740e+05       0.000000  ...    25.479009  -124.183611\n",
              "25%    6.837622e+07   49390.000000  ...    33.876535  -105.095673\n",
              "50%    6.846507e+07   58440.000000  ...    38.898082   -87.180851\n",
              "75%    6.853764e+07   73171.750000  ...    40.813125   -78.879958\n",
              "max    6.861706e+07  218587.000000  ...    48.785206   -68.753750\n",
              "\n",
              "[8 rows x 7 columns]"
            ]
          },
          "metadata": {
            "tags": []
          },
          "execution_count": 46
        }
      ]
    },
    {
      "cell_type": "code",
      "metadata": {
        "colab": {
          "base_uri": "https://localhost:8080/"
        },
        "id": "6b5cgV12_4UN",
        "outputId": "58467488-a18a-48b3-f906-d5565e8713c2"
      },
      "source": [
        "#checking the nan/null values\n",
        "print(df.isnull().sum())\n",
        "print(\"####__________####\")\n",
        "print(df.isna().sum())\n",
        "print(\"####__________####\")\n",
        "print(df.head(2))"
      ],
      "execution_count": null,
      "outputs": [
        {
          "output_type": "stream",
          "text": [
            "id                    0\n",
            "Target_Salary         0\n",
            "Target_Satisfied      0\n",
            "LOAN_AMT              0\n",
            "Business Title        0\n",
            "                   ... \n",
            "website             547\n",
            "dateAdded             0\n",
            "previousaddress       0\n",
            "phones                0\n",
            "CrimeTime             0\n",
            "Length: 83, dtype: int64\n",
            "####__________####\n",
            "id                    0\n",
            "Target_Salary         0\n",
            "Target_Satisfied      0\n",
            "LOAN_AMT              0\n",
            "Business Title        0\n",
            "                   ... \n",
            "website             547\n",
            "dateAdded             0\n",
            "previousaddress       0\n",
            "phones                0\n",
            "CrimeTime             0\n",
            "Length: 83, dtype: int64\n",
            "####__________####\n",
            "         id  Target_Salary  ...          phones CrimeTime\n",
            "0  68407277        42405.0  ...  (510) 528-2375  23:30:00\n",
            "1  68355089        60740.0  ...  (510) 528-2375  23:00:00\n",
            "\n",
            "[2 rows x 83 columns]\n"
          ],
          "name": "stdout"
        }
      ]
    },
    {
      "cell_type": "code",
      "metadata": {
        "id": "jBCgtTYvAc-O",
        "colab": {
          "base_uri": "https://localhost:8080/"
        },
        "outputId": "495bc136-8239-4ecb-dfc5-fe02e4686fab"
      },
      "source": [
        "print(df['Target_Satisfied'].unique())\n",
        "print(\"Binary variable\")\n",
        "\n",
        "x=df.iloc[:,1].values.reshape(-1,1) #Independent\" variable (x)\n",
        "y=df['Target_Satisfied'].values #Dependent Variable(y)\n",
        "\n"
      ],
      "execution_count": null,
      "outputs": [
        {
          "output_type": "stream",
          "text": [
            "[0 1]\n",
            "Binary variable\n"
          ],
          "name": "stdout"
        }
      ]
    },
    {
      "cell_type": "code",
      "metadata": {
        "id": "JCOOv6kfE-Ng"
      },
      "source": [
        "#Splitting the Data\n",
        "###The reason is that when the dataset is split into train and test sets,\n",
        "### there will not be enough data in the training dataset\n",
        "### for the model to learn an effective mapping of inputs to outputs\n",
        "from sklearn.model_selection import train_test_split\n",
        "x_train,x_test,y_train,y_test=train_test_split(x,y,test_size=0.20,random_state=10)\n",
        "\n"
      ],
      "execution_count": null,
      "outputs": []
    },
    {
      "cell_type": "code",
      "metadata": {
        "id": "xXcO9mrjRqIT"
      },
      "source": [
        "from sklearn.ensemble import RandomForestClassifier\n",
        "#we are using RandomforestClassifier for best outcomes due to Binary Targets\n",
        "#Now we are using Classifier\n",
        "#because Classification metrics can't handle a mix of binary and continuous targets\n",
        "classifier=RandomForestClassifier(n_estimators=10,max_features='sqrt')\n",
        "classifier.fit(x_train,y_train)\n",
        "pred_y=classifier.predict(x_test)"
      ],
      "execution_count": null,
      "outputs": []
    },
    {
      "cell_type": "code",
      "metadata": {
        "colab": {
          "base_uri": "https://localhost:8080/"
        },
        "id": "7vuPRppAYD5X",
        "outputId": "03a2b925-5eee-49fa-c9f5-4c03ef71434d"
      },
      "source": [
        "#Some Hyperparameter techniques for best outcomes\n",
        "from sklearn.model_selection import GridSearchCV\n",
        "param={'n_estimators':[100,200,300,400,500,600,700,10,20,30,40,50,60,70],\n",
        "       'max_features': ['auto', 'sqrt', 'log2']}\n",
        "grid_search=GridSearchCV(RandomForestClassifier(),param_grid=param,cv=10)\n",
        "grid_search.fit(x_train,y_train)\n",
        "print(grid_search.best_params_)\n",
        "print(grid_search.best_score_)"
      ],
      "execution_count": null,
      "outputs": [
        {
          "output_type": "stream",
          "text": [
            "{'max_features': 'log2', 'n_estimators': 10}\n",
            "0.7614551027767761\n"
          ],
          "name": "stdout"
        }
      ]
    },
    {
      "cell_type": "code",
      "metadata": {
        "colab": {
          "base_uri": "https://localhost:8080/"
        },
        "id": "gRATL4kzWrFz",
        "outputId": "d450ff2f-bc2e-4afe-a015-2390c3741dd1"
      },
      "source": [
        "from sklearn import metrics\n",
        "print('Root Mean Squared Error:', np.sqrt(metrics.mean_squared_error(y_test, pred_y)))\n",
        "print('F1 SCORE',metrics.f1_score(y_test,pred_y))\n"
      ],
      "execution_count": null,
      "outputs": [
        {
          "output_type": "stream",
          "text": [
            "Root Mean Squared Error: 0.49403218175557095\n",
            "F1 SCORE 0.1111111111111111\n"
          ],
          "name": "stdout"
        }
      ]
    },
    {
      "cell_type": "code",
      "metadata": {
        "colab": {
          "base_uri": "https://localhost:8080/"
        },
        "id": "J67ua1D4W1Di",
        "outputId": "84d01d69-2681-4034-cd5f-23f894147d58"
      },
      "source": [
        "print('Confusion Matrix',\n",
        "      \"##\",metrics.confusion_matrix(y_test,pred_y)*100)\n",
        "print(\"Accuracy score\",metrics.accuracy_score(y_test,pred_y)*100)"
      ],
      "execution_count": null,
      "outputs": [
        {
          "output_type": "stream",
          "text": [
            "Confusion Matrix ## [[44000  2200]\n",
            " [12200   600]]\n",
            "Accuracy score 75.59322033898304\n"
          ],
          "name": "stdout"
        }
      ]
    },
    {
      "cell_type": "code",
      "metadata": {
        "id": "h5S3DPK6QnQ5"
      },
      "source": [
        "# Feature Scaling\n",
        "from sklearn.preprocessing import StandardScaler\n",
        "\n",
        "sc = StandardScaler()\n",
        "X_train = sc.fit_transform(x_train)\n",
        "X_test = sc.transform(x_test)\n",
        ""
      ],
      "execution_count": null,
      "outputs": []
    },
    {
      "cell_type": "code",
      "metadata": {
        "id": "p0TSf7-gFYGg"
      },
      "source": [
        "from sklearn.ensemble import RandomForestRegressor\n",
        "# Instead of classification we are using regressor because in problem statement QUESTIONS are asked about (RMSE(ROOT MEAN SQUARED Error))\n",
        "# In below code we will use Classifier to se the accuracy\n",
        "\n",
        "regressor = RandomForestRegressor(n_estimators=20, random_state=0)\n",
        "regressor.fit(X_train, y_train)\n",
        "y_pred = regressor.predict(X_test)"
      ],
      "execution_count": null,
      "outputs": []
    },
    {
      "cell_type": "code",
      "metadata": {
        "colab": {
          "base_uri": "https://localhost:8080/"
        },
        "id": "rT8116lKKx22",
        "outputId": "e0853e65-6239-4051-a735-b60ad0a3d4e1"
      },
      "source": [
        "from sklearn import metrics\n",
        "print('Root Mean Squared Error:', np.sqrt(metrics.mean_squared_error(y_test, y_pred)))\n",
        "print('Mean Absolute Error:', metrics.mean_absolute_error(y_test, y_pred))\n",
        "print('Mean Squared Error:', metrics.mean_squared_error(y_test, y_pred))\n"
      ],
      "execution_count": null,
      "outputs": [
        {
          "output_type": "stream",
          "text": [
            "Root Mean Squared Error: 0.4417995414392313\n",
            "Mean Absolute Error: 0.3329163672500554\n",
            "Mean Squared Error: 0.19518683481591503\n"
          ],
          "name": "stdout"
        }
      ]
    },
    {
      "cell_type": "code",
      "metadata": {
        "id": "ucmloDySDIHB"
      },
      "source": [],
      "execution_count": null,
      "outputs": []
    }
  ]
}